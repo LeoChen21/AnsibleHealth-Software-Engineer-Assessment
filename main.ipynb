{
 "cells": [
  {
   "cell_type": "code",
   "execution_count": 36,
   "metadata": {},
   "outputs": [
    {
     "name": "stdout",
     "output_type": "stream",
     "text": [
      "Looking in links: c:\\Users\\leoch\\AppData\\Local\\Temp\\tmpj6ecj4ta\n",
      "Requirement already satisfied: pip in c:\\users\\leoch\\appdata\\local\\programs\\python\\python312\\lib\\site-packages (24.2)\n",
      "pip 24.2 from c:\\Users\\leoch\\AppData\\Local\\Programs\\Python\\Python312\\Lib\\site-packages\\pip (python 3.12)\n",
      "\n",
      "Requirement already satisfied: google-api-python-client in c:\\users\\leoch\\appdata\\local\\programs\\python\\python312\\lib\\site-packages (2.156.0)\n",
      "Requirement already satisfied: google-auth-httplib2 in c:\\users\\leoch\\appdata\\local\\programs\\python\\python312\\lib\\site-packages (0.2.0)\n",
      "Requirement already satisfied: google-auth-oauthlib in c:\\users\\leoch\\appdata\\local\\programs\\python\\python312\\lib\\site-packages (1.2.1)\n",
      "Requirement already satisfied: markdown in c:\\users\\leoch\\appdata\\local\\programs\\python\\python312\\lib\\site-packages (3.7)\n"
     ]
    },
    {
     "name": "stderr",
     "output_type": "stream",
     "text": [
      "ERROR: Could not find a version that satisfies the requirement google-colab (from versions: none)\n",
      "\n",
      "[notice] A new release of pip is available: 24.2 -> 24.3.1\n",
      "[notice] To update, run: python.exe -m pip install --upgrade pip\n",
      "ERROR: No matching distribution found for google-colab\n"
     ]
    }
   ],
   "source": [
    "# Install required libraries\n",
    "!python -m ensurepip --default-pip\n",
    "!python -m pip --version\n",
    "!python -m pip install --upgrade google-api-python-client google-auth-httplib2 google-auth-oauthlib markdown"
   ]
  },
  {
   "cell_type": "code",
   "execution_count": 35,
   "metadata": {},
   "outputs": [
    {
     "ename": "ModuleNotFoundError",
     "evalue": "No module named 'google.colab'",
     "output_type": "error",
     "traceback": [
      "\u001b[1;31m---------------------------------------------------------------------------\u001b[0m",
      "\u001b[1;31mModuleNotFoundError\u001b[0m                       Traceback (most recent call last)",
      "Cell \u001b[1;32mIn[35], line 4\u001b[0m\n\u001b[0;32m      2\u001b[0m \u001b[38;5;28;01mimport\u001b[39;00m \u001b[38;5;21;01mos\u001b[39;00m\n\u001b[0;32m      3\u001b[0m \u001b[38;5;28;01mimport\u001b[39;00m \u001b[38;5;21;01mmarkdown\u001b[39;00m\n\u001b[1;32m----> 4\u001b[0m \u001b[38;5;28;01mfrom\u001b[39;00m \u001b[38;5;21;01mgoogle\u001b[39;00m\u001b[38;5;21;01m.\u001b[39;00m\u001b[38;5;21;01mcolab\u001b[39;00m \u001b[38;5;28;01mimport\u001b[39;00m auth\n\u001b[0;32m      5\u001b[0m \u001b[38;5;28;01mfrom\u001b[39;00m \u001b[38;5;21;01mgoogleapiclient\u001b[39;00m\u001b[38;5;21;01m.\u001b[39;00m\u001b[38;5;21;01mdiscovery\u001b[39;00m \u001b[38;5;28;01mimport\u001b[39;00m build\n\u001b[0;32m      6\u001b[0m \u001b[38;5;28;01mfrom\u001b[39;00m \u001b[38;5;21;01mgoogle_auth_httplib2\u001b[39;00m \u001b[38;5;28;01mimport\u001b[39;00m AuthorizedHttp\n",
      "\u001b[1;31mModuleNotFoundError\u001b[0m: No module named 'google.colab'"
     ]
    }
   ],
   "source": [
    "# Import necessary libraries\n",
    "import os\n",
    "import markdown\n",
    "from google.colab import auth\n",
    "from googleapiclient.discovery import build\n",
    "from google_auth_httplib2 import AuthorizedHttp\n",
    "from google_auth_oauthlib.flow import InstalledAppFlow\n",
    "from google.auth.transport.requests import Request\n",
    "from googleapiclient.http import MediaIoBaseDownload\n",
    "from io import BytesI\n",
    "\n",
    "print(\"All libraries imported successfully!\")"
   ]
  },
  {
   "cell_type": "code",
   "execution_count": 29,
   "metadata": {},
   "outputs": [],
   "source": [
    "# Step 1: Authenticate and create a Google Docs API service\n",
    "def authenticate_google_docs():\n",
    "    # Authenticate and create the Docs API service\n",
    "    auth.authenticate_user()\n",
    "    credentials = None\n",
    "    if os.path.exists('token.json'):\n",
    "        credentials = google.auth.load_credentials_from_file('token.json')[0]\n",
    "\n",
    "    if not credentials or not credentials.valid:\n",
    "        if credentials and credentials.expired and credentials.refresh_token:\n",
    "            credentials.refresh(Request())\n",
    "        else:\n",
    "            flow = InstalledAppFlow.from_client_secrets_file(\n",
    "                'credentials.json', ['https://www.googleapis.com/auth/documents']\n",
    "            )\n",
    "            credentials = flow.run_local_server(port=0)\n",
    "        with open('token.json', 'w') as token:\n",
    "            token.write(credentials.to_json())\n",
    "\n",
    "    docs_service = build('docs', 'v1', credentials=credentials)\n",
    "    return docs_service"
   ]
  },
  {
   "cell_type": "code",
   "execution_count": 30,
   "metadata": {},
   "outputs": [],
   "source": [
    "# Step 2: Convert markdown to Google Docs formatted text\n",
    "def markdown_to_google_docs(md_text):\n",
    "    # Convert markdown to HTML\n",
    "    html = markdown.markdown(md_text)\n",
    "\n",
    "    # Create the Google Doc content list\n",
    "    doc_content = []\n",
    "    \n",
    "    # Main title - Heading 1\n",
    "    doc_content.append({\n",
    "        'insertText': {\n",
    "            'location': {'index': 1},\n",
    "            'text': \"Product Team Sync\\n\",\n",
    "        }\n",
    "    })\n",
    "\n",
    "    # Process sections and subsections\n",
    "    lines = md_text.split('\\n')\n",
    "    for line in lines:\n",
    "        if line.startswith(\"## \"):  # Heading 2\n",
    "            doc_content.append({\n",
    "                'insertText': {\n",
    "                    'location': {'index': 1},\n",
    "                    'text': line[3:] + '\\n',\n",
    "                }\n",
    "            })\n",
    "        elif line.startswith(\"### \"):  # Heading 3\n",
    "            doc_content.append({\n",
    "                'insertText': {\n",
    "                    'location': {'index': 1},\n",
    "                    'text': line[4:] + '\\n',\n",
    "                }\n",
    "            })\n",
    "        elif line.startswith(\"- [ ]\"):  # Checkbox item\n",
    "            doc_content.append({\n",
    "                'insertText': {\n",
    "                    'location': {'index': 1},\n",
    "                    'text': line[6:] + '\\n',\n",
    "                }\n",
    "            })\n",
    "        else:\n",
    "            doc_content.append({\n",
    "                'insertText': {\n",
    "                    'location': {'index': 1},\n",
    "                    'text': line + '\\n',\n",
    "                }\n",
    "            })\n",
    "\n",
    "    return doc_content"
   ]
  },
  {
   "cell_type": "code",
   "execution_count": 31,
   "metadata": {},
   "outputs": [],
   "source": [
    "# Step 3: Create Google Doc from markdown content\n",
    "def create_google_doc(md_text):\n",
    "    docs_service = authenticate_google_docs()\n",
    "\n",
    "    # Create a new Google Doc\n",
    "    document = docs_service.documents().create().execute()\n",
    "    doc_id = document['documentId']\n",
    "\n",
    "    # Convert markdown to formatted Google Docs content\n",
    "    doc_content = markdown_to_google_docs(md_text)\n",
    "\n",
    "    # Insert formatted content into the Google Doc\n",
    "    for content in doc_content:\n",
    "        docs_service.documents().batchUpdate(\n",
    "            documentId=doc_id,\n",
    "            body={'requests': [content]}\n",
    "        ).execute()\n",
    "\n",
    "    return doc_id"
   ]
  },
  {
   "cell_type": "code",
   "execution_count": 32,
   "metadata": {},
   "outputs": [
    {
     "ename": "NameError",
     "evalue": "name 'auth' is not defined",
     "output_type": "error",
     "traceback": [
      "\u001b[1;31m---------------------------------------------------------------------------\u001b[0m",
      "\u001b[1;31mNameError\u001b[0m                                 Traceback (most recent call last)",
      "Cell \u001b[1;32mIn[32], line 62\u001b[0m\n\u001b[0;32m      2\u001b[0m md_text \u001b[38;5;241m=\u001b[39m \u001b[38;5;124m'''\u001b[39m\n\u001b[0;32m      3\u001b[0m \u001b[38;5;124m# Product Team Sync - May 15, 2023\u001b[39m\n\u001b[0;32m      4\u001b[0m \n\u001b[1;32m   (...)\u001b[0m\n\u001b[0;32m     58\u001b[0m \u001b[38;5;124mDuration: 45 minutes\u001b[39m\n\u001b[0;32m     59\u001b[0m \u001b[38;5;124m'''\u001b[39m\n\u001b[0;32m     61\u001b[0m \u001b[38;5;66;03m# Run the function to create a Google Doc\u001b[39;00m\n\u001b[1;32m---> 62\u001b[0m doc_id \u001b[38;5;241m=\u001b[39m \u001b[43mcreate_google_doc\u001b[49m\u001b[43m(\u001b[49m\u001b[43mmd_text\u001b[49m\u001b[43m)\u001b[49m\n\u001b[0;32m     63\u001b[0m \u001b[38;5;28mprint\u001b[39m(\u001b[38;5;124mf\u001b[39m\u001b[38;5;124m\"\u001b[39m\u001b[38;5;124mGoogle Doc created successfully with ID: \u001b[39m\u001b[38;5;132;01m{\u001b[39;00mdoc_id\u001b[38;5;132;01m}\u001b[39;00m\u001b[38;5;124m\"\u001b[39m)\n",
      "Cell \u001b[1;32mIn[31], line 3\u001b[0m, in \u001b[0;36mcreate_google_doc\u001b[1;34m(md_text)\u001b[0m\n\u001b[0;32m      2\u001b[0m \u001b[38;5;28;01mdef\u001b[39;00m \u001b[38;5;21mcreate_google_doc\u001b[39m(md_text):\n\u001b[1;32m----> 3\u001b[0m     docs_service \u001b[38;5;241m=\u001b[39m \u001b[43mauthenticate_google_docs\u001b[49m\u001b[43m(\u001b[49m\u001b[43m)\u001b[49m\n\u001b[0;32m      5\u001b[0m     \u001b[38;5;66;03m# Create a new Google Doc\u001b[39;00m\n\u001b[0;32m      6\u001b[0m     document \u001b[38;5;241m=\u001b[39m docs_service\u001b[38;5;241m.\u001b[39mdocuments()\u001b[38;5;241m.\u001b[39mcreate()\u001b[38;5;241m.\u001b[39mexecute()\n",
      "Cell \u001b[1;32mIn[29], line 4\u001b[0m, in \u001b[0;36mauthenticate_google_docs\u001b[1;34m()\u001b[0m\n\u001b[0;32m      2\u001b[0m \u001b[38;5;28;01mdef\u001b[39;00m \u001b[38;5;21mauthenticate_google_docs\u001b[39m():\n\u001b[0;32m      3\u001b[0m     \u001b[38;5;66;03m# Authenticate and create the Docs API service\u001b[39;00m\n\u001b[1;32m----> 4\u001b[0m     \u001b[43mauth\u001b[49m\u001b[38;5;241m.\u001b[39mauthenticate_user()\n\u001b[0;32m      5\u001b[0m     credentials \u001b[38;5;241m=\u001b[39m \u001b[38;5;28;01mNone\u001b[39;00m\n\u001b[0;32m      6\u001b[0m     \u001b[38;5;28;01mif\u001b[39;00m os\u001b[38;5;241m.\u001b[39mpath\u001b[38;5;241m.\u001b[39mexists(\u001b[38;5;124m'\u001b[39m\u001b[38;5;124mtoken.json\u001b[39m\u001b[38;5;124m'\u001b[39m):\n",
      "\u001b[1;31mNameError\u001b[0m: name 'auth' is not defined"
     ]
    }
   ],
   "source": [
    "# Step 4: Generate the Google Doc from the provided markdown meeting notes\n",
    "md_text = '''\n",
    "# Product Team Sync - May 15, 2023\n",
    "\n",
    "## Attendees\n",
    "- Sarah Chen (Product Lead)\n",
    "- Mike Johnson (Engineering)\n",
    "- Anna Smith (Design)\n",
    "- David Park (QA)\n",
    "\n",
    "## Agenda\n",
    "\n",
    "### 1. Sprint Review\n",
    "* Completed Features\n",
    "  * User authentication flow\n",
    "  * Dashboard redesign\n",
    "  * Performance optimization\n",
    "    * Reduced load time by 40%\n",
    "    * Implemented caching solution\n",
    "* Pending Items\n",
    "  * Mobile responsive fixes\n",
    "  * Beta testing feedback integration\n",
    "\n",
    "### 2. Current Challenges\n",
    "* Resource constraints in QA team\n",
    "* Third-party API integration delays\n",
    "* User feedback on new UI\n",
    "  * Navigation confusion\n",
    "  * Color contrast issues\n",
    "\n",
    "### 3. Next Sprint Planning\n",
    "* Priority Features\n",
    "  * Payment gateway integration\n",
    "  * User profile enhancement\n",
    "  * Analytics dashboard\n",
    "* Technical Debt\n",
    "  * Code refactoring\n",
    "  * Documentation updates\n",
    "\n",
    "## Action Items\n",
    "- [ ] @sarah: Finalize Q3 roadmap by Friday\n",
    "- [ ] @mike: Schedule technical review for payment integration\n",
    "- [ ] @anna: Share updated design system documentation\n",
    "- [ ] @david: Prepare QA resource allocation proposal\n",
    "\n",
    "## Next Steps\n",
    "* Schedule individual team reviews\n",
    "* Update sprint board\n",
    "* Share meeting summary with stakeholders\n",
    "\n",
    "## Notes\n",
    "* Next sync scheduled for May 22, 2023\n",
    "* Platform demo for stakeholders on May 25\n",
    "* Remember to update JIRA tickets\n",
    "\n",
    "---\n",
    "Meeting recorded by: Sarah Chen\n",
    "Duration: 45 minutes\n",
    "'''\n",
    "\n",
    "# Run the function to create a Google Doc\n",
    "doc_id = create_google_doc(md_text)\n",
    "print(f\"Google Doc created successfully with ID: {doc_id}\")\n"
   ]
  }
 ],
 "metadata": {
  "kernelspec": {
   "display_name": "Python 3",
   "language": "python",
   "name": "python3"
  },
  "language_info": {
   "codemirror_mode": {
    "name": "ipython",
    "version": 3
   },
   "file_extension": ".py",
   "mimetype": "text/x-python",
   "name": "python",
   "nbconvert_exporter": "python",
   "pygments_lexer": "ipython3",
   "version": "3.12.5"
  }
 },
 "nbformat": 4,
 "nbformat_minor": 2
}
